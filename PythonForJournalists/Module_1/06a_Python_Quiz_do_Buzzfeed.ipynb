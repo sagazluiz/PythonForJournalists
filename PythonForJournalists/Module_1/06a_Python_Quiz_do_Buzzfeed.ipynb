{
 "cells": [
  {
   "cell_type": "code",
   "execution_count": 2,
   "metadata": {},
   "outputs": [
    {
     "ename": "SyntaxError",
     "evalue": "invalid syntax (<ipython-input-2-13ca42c10486>, line 2)",
     "output_type": "error",
     "traceback": [
      "\u001b[1;36m  File \u001b[1;32m\"<ipython-input-2-13ca42c10486>\"\u001b[1;36m, line \u001b[1;32m2\u001b[0m\n\u001b[1;33m    1. Mostra opções\u001b[0m\n\u001b[1;37m            ^\u001b[0m\n\u001b[1;31mSyntaxError\u001b[0m\u001b[1;31m:\u001b[0m invalid syntax\n"
     ]
    }
   ],
   "source": [
    "# Quiz do Buzzfeed\n",
    "1. Mostra opções\n",
    "2. Captura os inputs\n",
    "3. Calcular resultados"
   ]
  },
  {
   "cell_type": "code",
   "execution_count": 2,
   "metadata": {},
   "outputs": [
    {
     "name": "stdout",
     "output_type": "stream",
     "text": [
      "Voce gosta de fazer cocegas nas pessoas?x\n",
      "Voce tem o habito de interromper os outros?n\n",
      "Você não é perfeito\n"
     ]
    }
   ],
   "source": [
    "insuportabilidade = 0\n",
    "\n",
    "resposta_1 = input('Voce gosta de fazer cocegas nas pessoas?')\n",
    "if resposta_1 == 'x':\n",
    "    insuportabilidade = insuportabilidade + 1\n",
    "    \n",
    "resposta_2 = input('Voce tem o habito de interromper os outros?')\n",
    "if resposta_2 =='x':\n",
    "    insuportabilidade = insuportabilidade + 1\n",
    "    \n",
    "# Respostas:\n",
    "if insuportabilidade ==0:\n",
    "    print('Voce é a pessoa MAIS LEGAL DO MUNDO.')\n",
    "elif insuportabilidade > 0 and insuportabilidade < 10:\n",
    "    print('Você não é perfeito')\n",
    "elif insuportabilidade < 20 and insuportabilidade > 10:\n",
    "    print('Deus me livre e guarde')\n",
    "else:\n",
    "    print('Talvez você seja meio chato')"
   ]
  },
  {
   "cell_type": "code",
   "execution_count": null,
   "metadata": {
    "collapsed": true
   },
   "outputs": [],
   "source": []
  }
 ],
 "metadata": {
  "kernelspec": {
   "display_name": "Python 3",
   "language": "python",
   "name": "python3"
  },
  "language_info": {
   "codemirror_mode": {
    "name": "ipython",
    "version": 3
   },
   "file_extension": ".py",
   "mimetype": "text/x-python",
   "name": "python",
   "nbconvert_exporter": "python",
   "pygments_lexer": "ipython3",
   "version": "3.6.3"
  }
 },
 "nbformat": 4,
 "nbformat_minor": 2
}
