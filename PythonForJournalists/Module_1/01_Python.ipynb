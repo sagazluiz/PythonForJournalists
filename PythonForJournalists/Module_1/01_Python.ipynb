{
 "cells": [
  {
   "cell_type": "code",
   "execution_count": 1,
   "metadata": {},
   "outputs": [
    {
     "name": "stdout",
     "output_type": "stream",
     "text": [
      "Ola, Knight\n"
     ]
    }
   ],
   "source": [
    "print(\"Ola, Knight\") # Mostra texto na tela"
   ]
  },
  {
   "cell_type": "code",
   "execution_count": 4,
   "metadata": {},
   "outputs": [
    {
     "name": "stdout",
     "output_type": "stream",
     "text": [
      "Qual seu nome?Fabio\n",
      "Oi, Fabio\n"
     ]
    }
   ],
   "source": [
    "nome_do_usuario = input('Qual seu nome?') # Cria variável com informação do usuário # tanto faz usar aspas simples ou duplas\n",
    "print('Oi, '+ nome_do_usuario) # Junta dois textos e mostra na tela"
   ]
  },
  {
   "cell_type": "code",
   "execution_count": null,
   "metadata": {
    "collapsed": true
   },
   "outputs": [],
   "source": []
  }
 ],
 "metadata": {
  "kernelspec": {
   "display_name": "Python 3",
   "language": "python",
   "name": "python3"
  },
  "language_info": {
   "codemirror_mode": {
    "name": "ipython",
    "version": 3
   },
   "file_extension": ".py",
   "mimetype": "text/x-python",
   "name": "python",
   "nbconvert_exporter": "python",
   "pygments_lexer": "ipython3",
   "version": "3.6.3"
  }
 },
 "nbformat": 4,
 "nbformat_minor": 2
}
